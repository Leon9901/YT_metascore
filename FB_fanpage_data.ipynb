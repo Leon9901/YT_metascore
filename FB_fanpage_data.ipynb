{
 "cells": [
  {
   "cell_type": "code",
   "execution_count": 3,
   "metadata": {
    "collapsed": true
   },
   "outputs": [],
   "source": [
    "import requests\n",
    "import json\n",
    "import pandas as pd"
   ]
  },
  {
   "cell_type": "code",
   "execution_count": 5,
   "metadata": {},
   "outputs": [
    {
     "name": "stdout",
     "output_type": "stream",
     "text": [
      "{\"name\":\"Alicia Lee\",\"id\":\"844389662238733\"}\n"
     ]
    }
   ],
   "source": [
    "# test token\n",
    "token = 'EAACEdEose0cBAMLdZBNFZBK6g6v7VQ70R1nQipq0qZBYqblZAZBsbCbVmfxfpZApZCTo98Ctd6vOPWnbgPLt6yTqhD7EGWIaBKd6ZBwk4gzWYZBlbkejSvY3yLgZCfKSTZCghZASQdFYhwjCZC0ZAZB6N02592S6tJ9AZCIrBYFqfJCk8NqgMnZCu60RSXbEzvafOtCOH9DtPHWKGTljAbgZDZD'\n",
    "res = requests.get(\"https://graph.facebook.com/v2.11/me?access_token=%s\" % (token))\n",
    "print(res.text)"
   ]
  },
  {
   "cell_type": "code",
   "execution_count": 7,
   "metadata": {
    "collapsed": true
   },
   "outputs": [],
   "source": [
    "pages = ('BaiChiGongZhu')\n",
    "\n",
    "# 粉絲頁基本資料\n",
    "for page in pages:\n",
    "    info = '?fields=id,name,about,category,likes,link,talking_about_count,website'\n",
    "    res = requests.get('https://graph.facebook.com/%s%s&access_token=%s' % (page, info, token))\n",
    "    #res.text\n",
    "    #json.loads(res.text)['id']\n",
    "\n",
    "    \n",
    "    pg1 = [page,                         # 縮名，string\n",
    "      json.loads(res.text)['id'],        # 唯一碼，numeric\n",
    "      json.loads(res.text)['name'],      # 粉專名稱，string\n",
    "      json.loads(res.text)['likes'],     # 粉絲數，numeric\n",
    "      json.loads(res.text)['talking_about_count'],   # 討論數，numeric\n",
    "      json.loads(res.text)['category'],  # 分類，string\n",
    "      json.loads(res.text)['about']      # 介紹，string\n",
    "          ]     \n",
    "    "
   ]
  },
  {
   "cell_type": "code",
   "execution_count": null,
   "metadata": {
    "collapsed": true
   },
   "outputs": [],
   "source": []
  },
  {
   "cell_type": "code",
   "execution_count": 22,
   "metadata": {
    "collapsed": true
   },
   "outputs": [],
   "source": [
    "pg2 = ['test01',\n",
    "       9187298370419,\n",
    "       'beautiful',\n",
    "       128793,\n",
    "       1987239,\n",
    "       'test',\n",
    "       'test test test']"
   ]
  },
  {
   "cell_type": "code",
   "execution_count": 29,
   "metadata": {},
   "outputs": [
    {
     "data": {
      "text/plain": [
       "'363734540324168'"
      ]
     },
     "execution_count": 29,
     "metadata": {},
     "output_type": "execute_result"
    }
   ],
   "source": [
    "pg1[1]"
   ]
  },
  {
   "cell_type": "code",
   "execution_count": 72,
   "metadata": {},
   "outputs": [],
   "source": [
    "# 將兩個dict組合成dataframe\n",
    "df = pd.DataFrame([pg1,pg2])"
   ]
  },
  {
   "cell_type": "code",
   "execution_count": 80,
   "metadata": {},
   "outputs": [],
   "source": [
    "# 為dataframe欄位命名\n",
    "df = df.rename(columns={0:'PID',1:'ID',2:'NAME',3:'LIKES',4:'TALKA',5:'TYPE',6:'ABOUT'})"
   ]
  },
  {
   "cell_type": "code",
   "execution_count": 78,
   "metadata": {},
   "outputs": [],
   "source": [
    "# 增加一row到dataframe中\n",
    "df = df.append([pg1,pg2], ignore_index=True)"
   ]
  },
  {
   "cell_type": "code",
   "execution_count": 81,
   "metadata": {},
   "outputs": [
    {
     "data": {
      "text/html": [
       "<div>\n",
       "<style>\n",
       "    .dataframe thead tr:only-child th {\n",
       "        text-align: right;\n",
       "    }\n",
       "\n",
       "    .dataframe thead th {\n",
       "        text-align: left;\n",
       "    }\n",
       "\n",
       "    .dataframe tbody tr th {\n",
       "        vertical-align: top;\n",
       "    }\n",
       "</style>\n",
       "<table border=\"1\" class=\"dataframe\">\n",
       "  <thead>\n",
       "    <tr style=\"text-align: right;\">\n",
       "      <th></th>\n",
       "      <th>PID</th>\n",
       "      <th>ID</th>\n",
       "      <th>NAME</th>\n",
       "      <th>LIKES</th>\n",
       "      <th>TALKA</th>\n",
       "      <th>TYPE</th>\n",
       "      <th>ABOUT</th>\n",
       "    </tr>\n",
       "  </thead>\n",
       "  <tbody>\n",
       "    <tr>\n",
       "      <th>0</th>\n",
       "      <td>BaiChiGongZhu</td>\n",
       "      <td>363734540324168</td>\n",
       "      <td>白癡公主</td>\n",
       "      <td>1011178</td>\n",
       "      <td>20809</td>\n",
       "      <td>Producer</td>\n",
       "      <td>舒服合作信箱87gongzhu@gmail.com\\n</td>\n",
       "    </tr>\n",
       "    <tr>\n",
       "      <th>1</th>\n",
       "      <td>test01</td>\n",
       "      <td>9187298370419</td>\n",
       "      <td>beautiful</td>\n",
       "      <td>128793</td>\n",
       "      <td>1987239</td>\n",
       "      <td>test</td>\n",
       "      <td>test test test</td>\n",
       "    </tr>\n",
       "    <tr>\n",
       "      <th>2</th>\n",
       "      <td>test01</td>\n",
       "      <td>9187298370419</td>\n",
       "      <td>beautiful</td>\n",
       "      <td>128793</td>\n",
       "      <td>1987239</td>\n",
       "      <td>test</td>\n",
       "      <td>test test test</td>\n",
       "    </tr>\n",
       "    <tr>\n",
       "      <th>3</th>\n",
       "      <td>BaiChiGongZhu</td>\n",
       "      <td>363734540324168</td>\n",
       "      <td>白癡公主</td>\n",
       "      <td>1011178</td>\n",
       "      <td>20809</td>\n",
       "      <td>Producer</td>\n",
       "      <td>舒服合作信箱87gongzhu@gmail.com\\n</td>\n",
       "    </tr>\n",
       "    <tr>\n",
       "      <th>4</th>\n",
       "      <td>test01</td>\n",
       "      <td>9187298370419</td>\n",
       "      <td>beautiful</td>\n",
       "      <td>128793</td>\n",
       "      <td>1987239</td>\n",
       "      <td>test</td>\n",
       "      <td>test test test</td>\n",
       "    </tr>\n",
       "  </tbody>\n",
       "</table>\n",
       "</div>"
      ],
      "text/plain": [
       "             PID               ID       NAME    LIKES    TALKA      TYPE  \\\n",
       "0  BaiChiGongZhu  363734540324168       白癡公主  1011178    20809  Producer   \n",
       "1         test01    9187298370419  beautiful   128793  1987239      test   \n",
       "2         test01    9187298370419  beautiful   128793  1987239      test   \n",
       "3  BaiChiGongZhu  363734540324168       白癡公主  1011178    20809  Producer   \n",
       "4         test01    9187298370419  beautiful   128793  1987239      test   \n",
       "\n",
       "                         ABOUT  \n",
       "0  舒服合作信箱87gongzhu@gmail.com\\n  \n",
       "1               test test test  \n",
       "2               test test test  \n",
       "3  舒服合作信箱87gongzhu@gmail.com\\n  \n",
       "4               test test test  "
      ]
     },
     "execution_count": 81,
     "metadata": {},
     "output_type": "execute_result"
    }
   ],
   "source": [
    "df"
   ]
  },
  {
   "cell_type": "code",
   "execution_count": null,
   "metadata": {
    "collapsed": true
   },
   "outputs": [],
   "source": []
  },
  {
   "cell_type": "code",
   "execution_count": null,
   "metadata": {
    "collapsed": true
   },
   "outputs": [],
   "source": []
  },
  {
   "cell_type": "code",
   "execution_count": null,
   "metadata": {
    "collapsed": true
   },
   "outputs": [],
   "source": [
    "pages = ('BaiChiGongZhu')\n",
    "\n",
    "# 貼文基本統計\n",
    "for page in pages:\n",
    "    info = '?fields=feed.limit(10){from, id, type, created_time, message, source, shares}'\n",
    "    period = '&since=1513296000&until=1514678400'            # 近兩週，2017/12/15-12/30\n",
    "    res = requests.get('https://graph.facebook.com/%s%s%s&access_token=%s' % (page, info, period, token))\n",
    "    #res.text\n",
    "    #json.loads(res.text)['id']\n",
    "    \n",
    "    feed = [page,                            # 粉專縮名\n",
    "           json.loads(res.text)['from'],     # 粉專名稱\n",
    "           json.loads(res.text)['id'],       # 文章唯一碼\n",
    "           json.loads(res.text)['type'],     # 文章類型\n",
    "           json.loads(res.text)['created_time'],  # 貼文時間\n",
    "           json.loads(res.text)['message'],  # 貼文內容\n",
    "           json.loads(res.text)['source'], # 貼文內容的外部來源\n",
    "           json.loads(res.text)['shares'], # shares\n",
    "            \n",
    "            # 讚\n",
    "            # reaction_love\n",
    "            # reaction_haha\n",
    "            # reaction_sad\n",
    "            # reaction_happy\n",
    "            # reaction_angry\n",
    "           ]\n",
    "    \n",
    "    "
   ]
  },
  {
   "cell_type": "code",
   "execution_count": 32,
   "metadata": {},
   "outputs": [
    {
     "name": "stdout",
     "output_type": "stream",
     "text": [
      "{\"id\":\"363734540324168\",\"name\":\"\\u767d\\u7661\\u516c\\u4e3b\",\"about\":\"\\u8212\\u670d\\u5408\\u4f5c\\u4fe1\\u7bb187gongzhu\\u0040gmail.com\\n\",\"category\":\"Producer\",\"likes\":1010895,\"link\":\"https:\\/\\/www.facebook.com\\/BaiChiGongZhu\\/\",\"talking_about_count\":18458,\"website\":\"http:\\/\\/pics.ee\\/87yt\"}\n"
     ]
    }
   ],
   "source": [
    "# 測試ID \n",
    "page = 'BaiChiGongZhu'\n",
    "#page = 'teemomustdie'\n",
    "#page = '168161663222590'\n",
    "\n",
    "# 只算LIKE數\n",
    "#commend = '/feed?fields=message,likes.limit(1).summary(true)'\n",
    "# 某段時間內的貼文\n",
    "#commend = '/feed?fields=message,likes.limit(1),created_time&until=1514462400&since=1513771200&limit=100'\n",
    "# 粉絲團基本資料\n",
    "commend = '?fields=id,name,about,category,likes,link,talking_about_count,website'\n",
    "\n",
    "res = requests.get(\"https://graph.facebook.com/%s%s&access_token=%s\" %(page, commend, token))\n",
    "print(res.text)"
   ]
  },
  {
   "cell_type": "code",
   "execution_count": null,
   "metadata": {
    "collapsed": true
   },
   "outputs": [],
   "source": []
  },
  {
   "cell_type": "code",
   "execution_count": null,
   "metadata": {
    "collapsed": true
   },
   "outputs": [],
   "source": [
    "# 粉絲數\n",
    "commend = '?fields=fan_count'\n",
    "# 粉絲頁縮名\n",
    "commend = '?fields=page_token'\n"
   ]
  },
  {
   "cell_type": "code",
   "execution_count": null,
   "metadata": {
    "collapsed": true
   },
   "outputs": [],
   "source": [
    "# 近十篇貼文\n",
    "commend = 'BaiChiGongZhu?fields=feed.limit(10)'\n",
    "# 貼文分享自其他來源 {parenet_id}\n",
    "commend = 'BaiChiGongZhu?fields=feed.limit(10){parent_id}'\n",
    "\n",
    "# 貼文的ID {id}\n",
    "# 貼文中tag其他人 {message_tags}\n",
    "# 貼文中影片的名稱 {name}\n",
    "# 貼文類型 {icon}  | /icon/post.gif 一般貼文(可能附有照片或影片連結或新聞連結) | /icon/video.gif 影片貼文 | NA 分享貼文\n",
    "# 貼文類型 {status_type} | added_photos | added_video | mobile_status_update | shared_story |\n",
    "# 貼文類型 {type} | photo | video | link |\n",
    "# 原貼文的內容文字 {description} 如果是分享自其他來源就會是原貼文的文字\n",
    "# 粉絲團貼文內容 {message} 分享的貼文，附加的文字說明在此\n",
    "# 貼文時間 {created_time}\n",
    "# 貼文唯一碼 {created_time}\n",
    "# 哪個粉絲團的貼文 {from} 查單一粉絲團時用不到\n",
    "# 貼文的預設靜態圖 {full_picture}\n",
    "# 貼文的導向連結 {link} 可以是內部或外部\n",
    "# 貼文內容的外部來源 {source}\n",
    "# 分享次數 {shares}\n",
    "# 最後加上時間區間 &since=1480849200&until=1480856400  使用timestamp"
   ]
  },
  {
   "cell_type": "code",
   "execution_count": null,
   "metadata": {
    "collapsed": true
   },
   "outputs": [],
   "source": [
    "# 某貼文的互動數，所有reaction\n",
    "commend = '363734540324168_1763402230357385?fields=reactions.type(LOVE).limit(0).summary(total_count).as(reactions_love),reactions.type(WOW).limit(0).summary(total_count).as(reactions_wow),reactions.type(HAHA).limit(0).summary(total_count).as(reactions_haha),reactions.type(SAD).limit(0).summary(total_count).as(reactions_sad),reactions.type(ANGRY).limit(0).summary(total_count).as(reactions_angry)'\n",
    "# 文章觀看數 ?fields=seen 沒有權限\n",
    "# 文章分析  ?fields=insights 沒有權限\n"
   ]
  },
  {
   "cell_type": "code",
   "execution_count": null,
   "metadata": {
    "collapsed": true
   },
   "outputs": [],
   "source": []
  }
 ],
 "metadata": {
  "kernelspec": {
   "display_name": "Python 3",
   "language": "python",
   "name": "python3"
  },
  "language_info": {
   "codemirror_mode": {
    "name": "ipython",
    "version": 3
   },
   "file_extension": ".py",
   "mimetype": "text/x-python",
   "name": "python",
   "nbconvert_exporter": "python",
   "pygments_lexer": "ipython3",
   "version": "3.6.1"
  }
 },
 "nbformat": 4,
 "nbformat_minor": 2
}
